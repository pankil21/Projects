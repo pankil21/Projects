{
  "nbformat": 4,
  "nbformat_minor": 0,
  "metadata": {
    "colab": {
      "provenance": [],
      "collapsed_sections": [],
      "authorship_tag": "ABX9TyPASoYirK3m+OuCxGzW2yrG",
      "include_colab_link": true
    },
    "kernelspec": {
      "name": "python3",
      "display_name": "Python 3"
    },
    "language_info": {
      "name": "python"
    }
  },
  "cells": [
    {
      "cell_type": "markdown",
      "metadata": {
        "id": "view-in-github",
        "colab_type": "text"
      },
      "source": [
        "<a href=\"https://colab.research.google.com/github/pankil21/Projects/blob/main/Rock_VS_Mine_prediction.ipynb\" target=\"_parent\"><img src=\"https://colab.research.google.com/assets/colab-badge.svg\" alt=\"Open In Colab\"/></a>"
      ]
    },
    {
      "cell_type": "markdown",
      "source": [
        "Importing the files for prediction"
      ],
      "metadata": {
        "id": "yN3AbkR5TohT"
      }
    },
    {
      "cell_type": "code",
      "execution_count": 2,
      "metadata": {
        "id": "CfMN1A9cS5ff"
      },
      "outputs": [],
      "source": [
        "import numpy as np\n",
        "import pandas as pd\n",
        "from sklearn.model_selection import train_test_split\n",
        "from sklearn.linear_model import LogisticRegression\n",
        "from sklearn.metrics import accuracy_score"
      ]
    },
    {
      "cell_type": "code",
      "source": [
        "#loading the dataset\n",
        "sonar_data = pd.read_csv('/content/sonar_data.csv', header=None)"
      ],
      "metadata": {
        "id": "pZAe_mUaUdDH"
      },
      "execution_count": 5,
      "outputs": []
    },
    {
      "cell_type": "code",
      "source": [
        "sonar_data"
      ],
      "metadata": {
        "id": "OBslkcNPVEhw"
      },
      "execution_count": null,
      "outputs": []
    },
    {
      "cell_type": "code",
      "source": [
        "sonar_data.head()"
      ],
      "metadata": {
        "id": "a3JuTcJ5VWeF"
      },
      "execution_count": null,
      "outputs": []
    },
    {
      "cell_type": "markdown",
      "source": [],
      "metadata": {
        "id": "WLFZc2q4TPlf"
      }
    },
    {
      "cell_type": "code",
      "source": [
        "sonar_data.shape"
      ],
      "metadata": {
        "colab": {
          "base_uri": "https://localhost:8080/"
        },
        "id": "0ngF_xfZVkC2",
        "outputId": "914ba72f-d7b0-49cc-ffec-5eb6ac0068ed"
      },
      "execution_count": 9,
      "outputs": [
        {
          "output_type": "execute_result",
          "data": {
            "text/plain": [
              "(208, 61)"
            ]
          },
          "metadata": {},
          "execution_count": 9
        }
      ]
    },
    {
      "cell_type": "code",
      "source": [
        "sonar_data.describe()"
      ],
      "metadata": {
        "id": "EDDh-GsGVneV"
      },
      "execution_count": null,
      "outputs": []
    },
    {
      "cell_type": "code",
      "source": [
        "sonar_data[60].value_counts()"
      ],
      "metadata": {
        "colab": {
          "base_uri": "https://localhost:8080/"
        },
        "id": "i91yAsPFVu9H",
        "outputId": "39bc29de-0a33-478c-a072-0d1b37df8c7a"
      },
      "execution_count": 37,
      "outputs": [
        {
          "output_type": "execute_result",
          "data": {
            "text/plain": [
              "M    111\n",
              "R     97\n",
              "Name: 60, dtype: int64"
            ]
          },
          "metadata": {},
          "execution_count": 37
        }
      ]
    },
    {
      "cell_type": "code",
      "source": [
        "sonar_data.groupby(60).mean()"
      ],
      "metadata": {
        "id": "R-N9VsHqWJiV"
      },
      "execution_count": null,
      "outputs": []
    },
    {
      "cell_type": "code",
      "source": [
        "# saperating data and labels\n",
        "x=sonar_data.drop(columns=60,axis=1)\n",
        "y=sonar_data[60]"
      ],
      "metadata": {
        "id": "6ksxJY43Wjvo"
      },
      "execution_count": 15,
      "outputs": []
    },
    {
      "cell_type": "code",
      "source": [
        "x"
      ],
      "metadata": {
        "id": "rroDfvQEXI_o"
      },
      "execution_count": null,
      "outputs": []
    },
    {
      "cell_type": "code",
      "source": [
        "y"
      ],
      "metadata": {
        "id": "8oXbLNUNXM0J"
      },
      "execution_count": null,
      "outputs": []
    },
    {
      "cell_type": "code",
      "source": [
        "#training and test data"
      ],
      "metadata": {
        "id": "l7IvqT6xXOUs"
      },
      "execution_count": 19,
      "outputs": []
    },
    {
      "cell_type": "code",
      "source": [
        "#x_train,xtest are the data from sonar data and rock_mine data is saved in y_test and y_train as they are the label so we are dividing the data in 2 sets \n",
        "# train_test_split are the function to split test and train data so from 208 rows of data we are dividing the 10% of data for the test so we kept the test_size=0.1\n",
        "# stratify is to divide the data in equal set of rock and mine so that are present in y \n",
        "x_train, x_test, y_train, y_test = train_test_split (x, y, test_size=0.1, stratify=y, random_state=1)"
      ],
      "metadata": {
        "id": "Qp3DrPQ3XZKc"
      },
      "execution_count": 21,
      "outputs": []
    },
    {
      "cell_type": "code",
      "source": [
        "print(x.shape,x_train.shape,x_test.shape)"
      ],
      "metadata": {
        "colab": {
          "base_uri": "https://localhost:8080/"
        },
        "id": "FR7X6f04Ysk_",
        "outputId": "95f6af62-d700-4d2d-e7f7-8723d4d0b8f9"
      },
      "execution_count": 22,
      "outputs": [
        {
          "output_type": "stream",
          "name": "stdout",
          "text": [
            "(208, 60) (187, 60) (21, 60)\n"
          ]
        }
      ]
    },
    {
      "cell_type": "code",
      "source": [
        "#model training---> Logistic Regression\n",
        "model= LogisticRegression()"
      ],
      "metadata": {
        "id": "Me2HmH8Jb8FK"
      },
      "execution_count": 23,
      "outputs": []
    },
    {
      "cell_type": "code",
      "source": [
        "#train the model with training data\n",
        "model.fit(x_train, y_train)"
      ],
      "metadata": {
        "colab": {
          "base_uri": "https://localhost:8080/"
        },
        "id": "aC6rin7YcK2s",
        "outputId": "d7da43b9-e996-4266-f498-2a3134365565"
      },
      "execution_count": 25,
      "outputs": [
        {
          "output_type": "execute_result",
          "data": {
            "text/plain": [
              "LogisticRegression()"
            ]
          },
          "metadata": {},
          "execution_count": 25
        }
      ]
    },
    {
      "cell_type": "code",
      "source": [
        "#model evalutation\n",
        "#accuracy of model\n",
        "x_train_prediction= model.predict(x_train)\n",
        "training_data_accuracy = accuracy_score(x_train_prediction, y_train)"
      ],
      "metadata": {
        "id": "9A3ksvzZcYac"
      },
      "execution_count": 29,
      "outputs": []
    },
    {
      "cell_type": "code",
      "source": [
        "print('Accuracy of training data: ',training_data_accuracy)"
      ],
      "metadata": {
        "colab": {
          "base_uri": "https://localhost:8080/"
        },
        "id": "6XwxKJe2c0F6",
        "outputId": "9788da27-c6a3-48b9-9d4d-688ee72c1e4d"
      },
      "execution_count": 30,
      "outputs": [
        {
          "output_type": "stream",
          "name": "stdout",
          "text": [
            "Accuracy of training data:  0.8342245989304813\n"
          ]
        }
      ]
    },
    {
      "cell_type": "code",
      "source": [
        "x_test_prediction= model.predict(x_test)\n",
        "test_data_accuracy = accuracy_score(x_test_prediction, y_test)"
      ],
      "metadata": {
        "id": "tPaSPgBwdhmf"
      },
      "execution_count": 31,
      "outputs": []
    },
    {
      "cell_type": "code",
      "source": [
        "print('Accuracy of test data: ',test_data_accuracy)"
      ],
      "metadata": {
        "colab": {
          "base_uri": "https://localhost:8080/"
        },
        "id": "Ct_nytsydtL9",
        "outputId": "6c8e8eca-102b-4ba2-c09a-ef7e8011ce2c"
      },
      "execution_count": 32,
      "outputs": [
        {
          "output_type": "stream",
          "name": "stdout",
          "text": [
            "Accuracy of test data:  0.7619047619047619\n"
          ]
        }
      ]
    },
    {
      "cell_type": "code",
      "source": [
        "#predictive system\n",
        "input_data= (0.0454,0.0472,0.0697,0.1021,0.1397,0.1493,0.1487,0.0771,0.1171,0.1675,0.2799,0.3323,0.4012,0.4296,0.5350,0.5411,0.6870,0.8045,0.9194,0.9169,1.0000,0.9972,0.9093,0.7918,0.6705,0.5324,0.3572,0.2484,0.3161,0.3775,0.3138,0.1713,0.2937,0.5234,0.5926,0.5437,0.4516,0.3379,0.3215,0.2178,0.1674,0.2634,0.2980,0.2037,0.1155,0.0919,0.0882,0.0228,0.0380,0.0142,0.0137,0.0120,0.0042,0.0238,0.0129,0.0084,0.0218,0.0321,0.0154,0.0053)\n",
        "#changing the input data in a numpy array\n",
        "input_array= np.asarray(input_data)\n",
        "# reshaping the data for one instance prediction\n",
        "input_arrayreshaped= input_array.reshape(1,-1)\n",
        "\n",
        "prediction = model.predict(input_arrayreshaped)\n",
        "print(prediction)\n",
        "\n",
        "if(prediction[0]=='R'):\n",
        "  print ('Rock')\n",
        "else:\n",
        "  print ('Mine')"
      ],
      "metadata": {
        "colab": {
          "base_uri": "https://localhost:8080/"
        },
        "id": "c7lfEhA-dyF2",
        "outputId": "c5882eb3-564f-4234-af05-df92b94ec1b8"
      },
      "execution_count": 35,
      "outputs": [
        {
          "output_type": "stream",
          "name": "stdout",
          "text": [
            "['M']\n",
            "Mine\n"
          ]
        }
      ]
    },
    {
      "cell_type": "code",
      "source": [],
      "metadata": {
        "id": "CbaNwZeTgF9b"
      },
      "execution_count": null,
      "outputs": []
    }
  ]
}